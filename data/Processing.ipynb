{
 "cells": [
  {
   "cell_type": "code",
   "execution_count": 14,
   "metadata": {},
   "outputs": [
    {
     "name": "stdout",
     "output_type": "stream",
     "text": [
      "   Gender   Age  Height  Weight family_history_with_overweight FAVC  FCVC  \\\n",
      "0  Female  21.0    1.62    64.0                            yes   no   2.0   \n",
      "1  Female  21.0    1.52    56.0                            yes   no   3.0   \n",
      "2    Male  23.0    1.80    77.0                            yes   no   2.0   \n",
      "3    Male  27.0    1.80    87.0                             no   no   3.0   \n",
      "4    Male  22.0    1.78    89.8                             no   no   2.0   \n",
      "\n",
      "   NCP       CAEC SMOKE  CH2O  SCC  FAF  TUE        CALC  \\\n",
      "0  3.0  Sometimes    no   2.0   no  0.0  1.0          no   \n",
      "1  3.0  Sometimes   yes   3.0  yes  3.0  0.0   Sometimes   \n",
      "2  3.0  Sometimes    no   2.0   no  2.0  1.0  Frequently   \n",
      "3  3.0  Sometimes    no   2.0   no  2.0  0.0  Frequently   \n",
      "4  1.0  Sometimes    no   2.0   no  0.0  0.0   Sometimes   \n",
      "\n",
      "                  MTRANS           NObeyesdad  \n",
      "0  Public_Transportation        Normal_Weight  \n",
      "1  Public_Transportation        Normal_Weight  \n",
      "2  Public_Transportation        Normal_Weight  \n",
      "3                Walking   Overweight_Level_I  \n",
      "4  Public_Transportation  Overweight_Level_II  \n"
     ]
    }
   ],
   "source": [
    "import pandas as pd\n",
    "\n",
    "df = pd.read_csv('../data/processed/cleaned_data.csv')\n",
    "\n",
    "head = df.head()\n",
    "print(head)"
   ]
  },
  {
   "cell_type": "markdown",
   "metadata": {},
   "source": [
    "# Handling Data Types"
   ]
  },
  {
   "cell_type": "code",
   "execution_count": 15,
   "metadata": {},
   "outputs": [
    {
     "name": "stdout",
     "output_type": "stream",
     "text": [
      "\n",
      "===== FEATURE TYPES =====\n",
      "Identified 8 categorical columns: ['Gender', 'family_history_with_overweight', 'FAVC', 'CAEC', 'SMOKE', 'SCC', 'CALC', 'MTRANS']\n",
      "Identified 8 numerical columns: ['Age', 'Height', 'Weight', 'FCVC', 'NCP', 'CH2O', 'FAF', 'TUE']\n",
      "============================================================\n"
     ]
    }
   ],
   "source": [
    "# Store the target variable separately before preprocessing\n",
    "y_original = df['NObeyesdad'].copy()\n",
    "\n",
    "# Automatically identify categorical and numerical columns\n",
    "cat_cols = df.select_dtypes(include=['object', 'category']).columns.tolist()\n",
    "num_cols = df.select_dtypes(include=['int64', 'float64']).columns.tolist()\n",
    "\n",
    "# Remove target variable from categorical columns if present\n",
    "if 'NObeyesdad' in cat_cols:\n",
    "    cat_cols.remove('NObeyesdad')\n",
    "\n",
    "# Remove target variable from numerical columns if present\n",
    "if 'NObeyesdad' in num_cols:\n",
    "    num_cols.remove('NObeyesdad')\n",
    "\n",
    "\n",
    "print(f\"\\n===== FEATURE TYPES =====\")\n",
    "print(f\"Identified {len(cat_cols)} categorical columns: {cat_cols}\")\n",
    "print(f\"Identified {len(num_cols)} numerical columns: {num_cols}\")\n",
    "print(\"=\" * 60)"
   ]
  },
  {
   "cell_type": "markdown",
   "metadata": {},
   "source": [
    "# DATA PREPROCESSING\n",
    "\n",
    "Preparing the data for model training by encoding categorical variables,\n",
    "scaling numerical features, and splitting into training and testing sets.\n",
    "This step ensures our data is in the correct format for machine learning algorithms."
   ]
  },
  {
   "cell_type": "markdown",
   "metadata": {},
   "source": [
    "### Encoding Categorical Variables"
   ]
  },
  {
   "cell_type": "code",
   "execution_count": 16,
   "metadata": {},
   "outputs": [
    {
     "name": "stdout",
     "output_type": "stream",
     "text": [
      "Classes mapping: {'Insufficient_Weight': 0, 'Normal_Weight': 1, 'Obesity_Type_I': 2, 'Obesity_Type_II': 3, 'Obesity_Type_III': 4, 'Overweight_Level_I': 5, 'Overweight_Level_II': 6}\n",
      "Dataset shape after one-hot encoding: (2087, 23)\n",
      "Label encoder saved to '../models/label_encoder.pkl'\n"
     ]
    }
   ],
   "source": [
    "from sklearn.preprocessing import StandardScaler, LabelEncoder\n",
    "import pickle\n",
    "\n",
    "# Label Encode target variable\n",
    "le = LabelEncoder()\n",
    "y = le.fit_transform(y_original)\n",
    "class_mapping = dict(zip(le.classes_, le.transform(le.classes_)))\n",
    "print(f\"Classes mapping: {class_mapping}\")\n",
    "\n",
    "# Drop the target variable from the dataframe before one-hot encoding\n",
    "X_df = df.drop('NObeyesdad', axis=1)\n",
    "\n",
    "# One-hot encode all categorical columns\n",
    "X_encoded = pd.get_dummies(X_df, columns=cat_cols, drop_first=True)\n",
    "print(f\"Dataset shape after one-hot encoding: {X_encoded.shape}\")\n",
    "\n",
    "# Save the label encoder for future use\n",
    "pickle.dump(le, open('../models/label_encoder.pkl', 'wb'))\n",
    "print(\"Label encoder saved to '../models/label_encoder.pkl'\")\n"
   ]
  },
  {
   "cell_type": "markdown",
   "metadata": {},
   "source": [
    "### Split the data into train/test"
   ]
  },
  {
   "cell_type": "code",
   "execution_count": 17,
   "metadata": {},
   "outputs": [
    {
     "name": "stdout",
     "output_type": "stream",
     "text": [
      "Training set: (1669, 23), Test set: (418, 23)\n"
     ]
    }
   ],
   "source": [
    "\n",
    "from sklearn.model_selection import train_test_split\n",
    "\n",
    "# Split into train and test sets with stratification to maintain class distribution\n",
    "X_train, X_test, y_train, y_test = train_test_split(\n",
    "    X_encoded, y, test_size=0.2, random_state=42, stratify=y\n",
    ")\n",
    "print(f\"Training set: {X_train.shape}, Test set: {X_test.shape}\")\n"
   ]
  },
  {
   "cell_type": "markdown",
   "metadata": {},
   "source": [
    "### Feature Scaling"
   ]
  },
  {
   "cell_type": "code",
   "execution_count": 19,
   "metadata": {},
   "outputs": [
    {
     "name": "stdout",
     "output_type": "stream",
     "text": [
      "Scaler saved to '../models/scaler.pkl'\n"
     ]
    }
   ],
   "source": [
    "# Scale numerical features\n",
    "scaler = StandardScaler()\n",
    "# Get column indices for numerical features in the one-hot encoded dataframe\n",
    "num_feature_indices = [X_train.columns.get_loc(col) for col in num_cols if col in X_train.columns]\n",
    "X_train_array = X_train.values.copy()  # Create a copy to avoid modifying the original\n",
    "X_test_array = X_test.values.copy()\n",
    "\n",
    "# Apply scaling only to numerical columns\n",
    "X_train_array[:, num_feature_indices] = scaler.fit_transform(X_train_array[:, num_feature_indices])\n",
    "X_test_array[:, num_feature_indices] = scaler.transform(X_test_array[:, num_feature_indices])\n",
    "# Save the scaler for future use\n",
    "pickle.dump(scaler, open('../models/scaler.pkl', 'wb'))\n",
    "print(\"Scaler saved to '../models/scaler.pkl'\")"
   ]
  },
  {
   "cell_type": "code",
   "execution_count": 20,
   "metadata": {},
   "outputs": [
    {
     "name": "stdout",
     "output_type": "stream",
     "text": [
      "Feature column names saved to '../models/feature_columns.pkl'\n",
      "============================================================\n"
     ]
    }
   ],
   "source": [
    "\n",
    "# Save the feature names for future reference\n",
    "feature_columns = {\n",
    "    'categorical': cat_cols,\n",
    "    'numerical': num_cols,\n",
    "    'encoded': X_encoded.columns.tolist()\n",
    "}\n",
    "pickle.dump(feature_columns, open('../models/feature_columns.pkl', 'wb'))\n",
    "print(\"Feature column names saved to '../models/feature_columns.pkl'\")\n",
    "print(\"=\" * 60)"
   ]
  },
  {
   "cell_type": "markdown",
   "metadata": {},
   "source": [
    "### Save train/test data"
   ]
  },
  {
   "cell_type": "code",
   "execution_count": 25,
   "metadata": {},
   "outputs": [
    {
     "name": "stdout",
     "output_type": "stream",
     "text": [
      "Data saved to: ../data/processed/train_features.csv\n",
      "Data saved to: ../data/processed/train_labels.csv\n",
      "Data saved to: ../data/processed/test_features.csv\n",
      "Data saved to: ../data/processed/test_labels.csv\n"
     ]
    }
   ],
   "source": [
    "import os\n",
    "\n",
    "def save_df(df, path):\n",
    "    print(\"Data saved to:\", path)\n",
    "    df.to_csv(path, index=False)\n",
    "\n",
    "save_dir = '../data/processed/'\n",
    "train_features_path = os.path.join(save_dir, \"train_features.csv\")\n",
    "train_labels_path = os.path.join(save_dir, \"train_labels.csv\")\n",
    "test_features_path = os.path.join(save_dir, \"test_features.csv\")\n",
    "test_labels_path = os.path.join(save_dir, \"test_labels.csv\")\n",
    "\n",
    "save_df(pd.DataFrame(X_train_array, columns=X_train.columns), train_features_path)\n",
    "save_df(pd.DataFrame(y_train), train_labels_path)\n",
    "save_df(pd.DataFrame(X_test_array, columns=X_test.columns), test_features_path)\n",
    "save_df(pd.DataFrame(y_test), test_labels_path)"
   ]
  },
  {
   "cell_type": "code",
   "execution_count": null,
   "metadata": {},
   "outputs": [],
   "source": []
  }
 ],
 "metadata": {
  "kernelspec": {
   "display_name": "Python 3",
   "language": "python",
   "name": "python3"
  },
  "language_info": {
   "codemirror_mode": {
    "name": "ipython",
    "version": 3
   },
   "file_extension": ".py",
   "mimetype": "text/x-python",
   "name": "python",
   "nbconvert_exporter": "python",
   "pygments_lexer": "ipython3",
   "version": "3.9.18"
  }
 },
 "nbformat": 4,
 "nbformat_minor": 2
}
