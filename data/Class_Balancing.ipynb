{
 "cells": [
  {
   "cell_type": "markdown",
   "metadata": {},
   "source": [
    "# Exploring Class Imbalance\n",
    "\n",
    "Through our EDA analysis, we found some of the class features were imbalanced (FAVC, SMOKE, SCC), so based on our [class imbalance research spike](https://docs.google.com/document/d/116kfJpA7369dsGvCV0twKVvFQefTEyGULMDg783SfOY/edit?tab=t.0), we decided to explore random oversampling to see if this could create a data set for a more accurate model prediction result."
   ]
  },
  {
   "cell_type": "code",
   "execution_count": 15,
   "metadata": {},
   "outputs": [
    {
     "name": "stdout",
     "output_type": "stream",
     "text": [
      "Index(['Gender', 'Age', 'Height', 'Weight', 'family_history_with_overweight',\n",
      "       'FAVC', 'FCVC', 'NCP', 'CAEC', 'SMOKE', 'CH2O', 'SCC', 'FAF', 'TUE',\n",
      "       'CALC', 'MTRANS', 'NObeyesdad'],\n",
      "      dtype='object')\n",
      "<class 'pandas.core.frame.DataFrame'>\n",
      "RangeIndex: 2087 entries, 0 to 2086\n",
      "Data columns (total 17 columns):\n",
      " #   Column                          Non-Null Count  Dtype  \n",
      "---  ------                          --------------  -----  \n",
      " 0   Gender                          2087 non-null   object \n",
      " 1   Age                             2087 non-null   float64\n",
      " 2   Height                          2087 non-null   float64\n",
      " 3   Weight                          2087 non-null   float64\n",
      " 4   family_history_with_overweight  2087 non-null   object \n",
      " 5   FAVC                            2087 non-null   object \n",
      " 6   FCVC                            2087 non-null   float64\n",
      " 7   NCP                             2087 non-null   float64\n",
      " 8   CAEC                            2087 non-null   object \n",
      " 9   SMOKE                           2087 non-null   object \n",
      " 10  CH2O                            2087 non-null   float64\n",
      " 11  SCC                             2087 non-null   object \n",
      " 12  FAF                             2087 non-null   float64\n",
      " 13  TUE                             2087 non-null   float64\n",
      " 14  CALC                            2087 non-null   object \n",
      " 15  MTRANS                          2087 non-null   object \n",
      " 16  NObeyesdad                      2087 non-null   object \n",
      "dtypes: float64(8), object(9)\n",
      "memory usage: 277.3+ KB\n"
     ]
    }
   ],
   "source": [
    "# Load imports and cleaned data\n",
    "import pandas as pd\n",
    "\n",
    "df = pd.read_csv('../data/processed/cleaned_data.csv')\n",
    "\n",
    "print(df.columns)\n",
    "df.info()"
   ]
  },
  {
   "cell_type": "code",
   "execution_count": 16,
   "metadata": {},
   "outputs": [],
   "source": [
    "# Define function to balance data on a targeted column\n",
    "\n",
    "def balance_classes(df, target_column):\n",
    "    balanced_df = df.copy()\n",
    "\n",
    "    print(\"=====\")\n",
    "    print(\"Balancing Column: \", target_column)\n",
    "\n",
    "    # Class counts\n",
    "    class_counts = balanced_df[target_column].value_counts()\n",
    "    print(\"Prior to balancing class count: \", class_counts)\n",
    "\n",
    "    # Find the majority class count\n",
    "    majority_class_count = class_counts.max()\n",
    "\n",
    "    # Upsample minority classes\n",
    "    from sklearn.utils import resample\n",
    "\n",
    "    upsampled_dfs = []\n",
    "    for class_value, count in class_counts.items():\n",
    "        class_df = balanced_df[balanced_df[target_column] == class_value]\n",
    "        if count < majority_class_count:\n",
    "            class_df = resample(class_df,\n",
    "                                replace=True,  # Sample with replacement\n",
    "                                n_samples=majority_class_count,  # Match majority class\n",
    "                                random_state=42)  # Reproducible results\n",
    "        upsampled_dfs.append(class_df)\n",
    "\n",
    "    # Combine all upsampled classes\n",
    "    balanced_df = pd.concat(upsampled_dfs)\n",
    "\n",
    "    print(\"After balancing class count: \", balanced_df[target_column].value_counts())\n",
    "    print(\"=====\")\n",
    "\n",
    "    return balanced_df"
   ]
  },
  {
   "cell_type": "markdown",
   "metadata": {},
   "source": [
    "## Review Balancing the Data Set\n"
   ]
  },
  {
   "cell_type": "code",
   "execution_count": 17,
   "metadata": {},
   "outputs": [
    {
     "name": "stdout",
     "output_type": "stream",
     "text": [
      "=====\n",
      "Balancing Column:  NObeyesdad\n",
      "Prior to balancing class count:  NObeyesdad\n",
      "Obesity_Type_I         351\n",
      "Obesity_Type_III       324\n",
      "Obesity_Type_II        297\n",
      "Overweight_Level_II    290\n",
      "Normal_Weight          282\n",
      "Overweight_Level_I     276\n",
      "Insufficient_Weight    267\n",
      "Name: count, dtype: int64\n",
      "After balancing class count:  NObeyesdad\n",
      "Obesity_Type_I         351\n",
      "Obesity_Type_III       351\n",
      "Obesity_Type_II        351\n",
      "Overweight_Level_II    351\n",
      "Normal_Weight          351\n",
      "Overweight_Level_I     351\n",
      "Insufficient_Weight    351\n",
      "Name: count, dtype: int64\n",
      "=====\n",
      "<class 'pandas.core.frame.DataFrame'>\n",
      "Index: 2457 entries, 10 to 686\n",
      "Data columns (total 17 columns):\n",
      " #   Column                          Non-Null Count  Dtype  \n",
      "---  ------                          --------------  -----  \n",
      " 0   Gender                          2457 non-null   object \n",
      " 1   Age                             2457 non-null   float64\n",
      " 2   Height                          2457 non-null   float64\n",
      " 3   Weight                          2457 non-null   float64\n",
      " 4   family_history_with_overweight  2457 non-null   object \n",
      " 5   FAVC                            2457 non-null   object \n",
      " 6   FCVC                            2457 non-null   float64\n",
      " 7   NCP                             2457 non-null   float64\n",
      " 8   CAEC                            2457 non-null   object \n",
      " 9   SMOKE                           2457 non-null   object \n",
      " 10  CH2O                            2457 non-null   float64\n",
      " 11  SCC                             2457 non-null   object \n",
      " 12  FAF                             2457 non-null   float64\n",
      " 13  TUE                             2457 non-null   float64\n",
      " 14  CALC                            2457 non-null   object \n",
      " 15  MTRANS                          2457 non-null   object \n",
      " 16  NObeyesdad                      2457 non-null   object \n",
      "dtypes: float64(8), object(9)\n",
      "memory usage: 345.5+ KB\n"
     ]
    }
   ],
   "source": [
    "# Balance out NObeyesdad (Obesity Levels)\n",
    "\n",
    "df = balance_classes(df, 'NObeyesdad')\n",
    "df.info()"
   ]
  },
  {
   "cell_type": "markdown",
   "metadata": {},
   "source": [
    "**Outcome:** We can see the target data is actually quite balanced already, so let's see what would happen if we tried to fix the imbalance for our class variables below."
   ]
  },
  {
   "cell_type": "code",
   "execution_count": 18,
   "metadata": {},
   "outputs": [
    {
     "name": "stdout",
     "output_type": "stream",
     "text": [
      "=====\n",
      "Balancing Column:  FAVC\n",
      "Prior to balancing class count:  FAVC\n",
      "yes    2161\n",
      "no      296\n",
      "Name: count, dtype: int64\n",
      "After balancing class count:  FAVC\n",
      "yes    2161\n",
      "no     2161\n",
      "Name: count, dtype: int64\n",
      "=====\n"
     ]
    }
   ],
   "source": [
    "# Balance out FAVC (Eating high caloric food frequently)\n",
    "\n",
    "df = balance_classes(df, 'FAVC')"
   ]
  },
  {
   "cell_type": "code",
   "execution_count": 19,
   "metadata": {},
   "outputs": [
    {
     "data": {
      "text/plain": [
       "NObeyesdad\n",
       "Normal_Weight          1030\n",
       "Overweight_Level_II     838\n",
       "Insufficient_Weight     715\n",
       "Overweight_Level_I      556\n",
       "Obesity_Type_I          430\n",
       "Obesity_Type_II         402\n",
       "Obesity_Type_III        351\n",
       "Name: count, dtype: int64"
      ]
     },
     "execution_count": 19,
     "metadata": {},
     "output_type": "execute_result"
    }
   ],
   "source": [
    "# Inspect balancing effect on Target Obesity Levels\n",
    "\n",
    "df['NObeyesdad'].value_counts()"
   ]
  },
  {
   "cell_type": "markdown",
   "metadata": {},
   "source": [
    "**Outcome:** By balancing FAVC inputs, we appear to have skewed the target data to be more imbalanced than before, which might produce skewed model training results."
   ]
  },
  {
   "cell_type": "markdown",
   "metadata": {},
   "source": [
    "## Class Balancing Analysis\n",
    "\n",
    "As a result of this analysis, the team has decided we will not be performing class balancing on the existing data set so as to preserve the distribution of obesity levels, which we deem to be more important for training a model to determine the most significant factors for predicting obesity across all available levels. "
   ]
  }
 ],
 "metadata": {
  "kernelspec": {
   "display_name": "dsi_participant",
   "language": "python",
   "name": "python3"
  },
  "language_info": {
   "codemirror_mode": {
    "name": "ipython",
    "version": 3
   },
   "file_extension": ".py",
   "mimetype": "text/x-python",
   "name": "python",
   "nbconvert_exporter": "python",
   "pygments_lexer": "ipython3",
   "version": "3.9.20"
  }
 },
 "nbformat": 4,
 "nbformat_minor": 2
}
