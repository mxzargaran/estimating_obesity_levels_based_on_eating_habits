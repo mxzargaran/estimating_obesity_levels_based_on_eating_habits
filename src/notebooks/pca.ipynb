{
 "cells": [
  {
   "cell_type": "code",
   "execution_count": 3,
   "metadata": {},
   "outputs": [],
   "source": [
    "import sys\n",
    "\n",
    "sys.path.append(\"..\")"
   ]
  },
  {
   "cell_type": "code",
   "execution_count": null,
   "metadata": {},
   "outputs": [],
   "source": [
    "from lib import data_io\n",
    "\n",
    "df_raw = data_io.load_raw_data()\n",
    "df_cleaned = data_io.load_cleaned_data()\n",
    "df_encoded = data_io.load_encoded_data()"
   ]
  },
  {
   "cell_type": "code",
   "execution_count": 7,
   "metadata": {},
   "outputs": [],
   "source": [
    "from sklearn.decomposition import PCA\n",
    "\n",
    "pca = PCA(n_components=0.95)\n",
    "df_pca = pca.fit_transform(df_encoded)"
   ]
  },
  {
   "cell_type": "code",
   "execution_count": 9,
   "metadata": {},
   "outputs": [
    {
     "name": "stdout",
     "output_type": "stream",
     "text": [
      "Shape: (2087, 10)\n"
     ]
    },
    {
     "data": {
      "text/html": [
       "<div>\n",
       "<style scoped>\n",
       "    .dataframe tbody tr th:only-of-type {\n",
       "        vertical-align: middle;\n",
       "    }\n",
       "\n",
       "    .dataframe tbody tr th {\n",
       "        vertical-align: top;\n",
       "    }\n",
       "\n",
       "    .dataframe thead th {\n",
       "        text-align: right;\n",
       "    }\n",
       "</style>\n",
       "<table border=\"1\" class=\"dataframe\">\n",
       "  <thead>\n",
       "    <tr style=\"text-align: right;\">\n",
       "      <th></th>\n",
       "      <th>PC1</th>\n",
       "      <th>PC2</th>\n",
       "      <th>PC3</th>\n",
       "      <th>PC4</th>\n",
       "      <th>PC5</th>\n",
       "      <th>PC6</th>\n",
       "      <th>PC7</th>\n",
       "      <th>PC8</th>\n",
       "      <th>PC9</th>\n",
       "      <th>PC10</th>\n",
       "    </tr>\n",
       "  </thead>\n",
       "  <tbody>\n",
       "    <tr>\n",
       "      <th>0</th>\n",
       "      <td>-1.941369</td>\n",
       "      <td>-0.497787</td>\n",
       "      <td>-1.324365</td>\n",
       "      <td>-0.995420</td>\n",
       "      <td>0.232958</td>\n",
       "      <td>-0.018665</td>\n",
       "      <td>0.455852</td>\n",
       "      <td>-0.258284</td>\n",
       "      <td>-0.134532</td>\n",
       "      <td>-0.838714</td>\n",
       "    </tr>\n",
       "    <tr>\n",
       "      <th>1</th>\n",
       "      <td>-2.121025</td>\n",
       "      <td>0.484950</td>\n",
       "      <td>2.336903</td>\n",
       "      <td>0.873032</td>\n",
       "      <td>0.801648</td>\n",
       "      <td>-0.059100</td>\n",
       "      <td>0.335239</td>\n",
       "      <td>-0.289468</td>\n",
       "      <td>-0.124930</td>\n",
       "      <td>-1.000955</td>\n",
       "    </tr>\n",
       "    <tr>\n",
       "      <th>2</th>\n",
       "      <td>-2.113127</td>\n",
       "      <td>1.123457</td>\n",
       "      <td>0.415470</td>\n",
       "      <td>-0.168013</td>\n",
       "      <td>-0.452445</td>\n",
       "      <td>-0.036741</td>\n",
       "      <td>0.166677</td>\n",
       "      <td>0.156373</td>\n",
       "      <td>-0.210472</td>\n",
       "      <td>-0.715496</td>\n",
       "    </tr>\n",
       "    <tr>\n",
       "      <th>3</th>\n",
       "      <td>1.847953</td>\n",
       "      <td>0.283141</td>\n",
       "      <td>1.850787</td>\n",
       "      <td>-0.326464</td>\n",
       "      <td>0.206920</td>\n",
       "      <td>-0.042363</td>\n",
       "      <td>-1.166209</td>\n",
       "      <td>-0.031245</td>\n",
       "      <td>-1.025657</td>\n",
       "      <td>-0.402292</td>\n",
       "    </tr>\n",
       "    <tr>\n",
       "      <th>4</th>\n",
       "      <td>3.085832</td>\n",
       "      <td>-1.254005</td>\n",
       "      <td>0.039280</td>\n",
       "      <td>-0.099189</td>\n",
       "      <td>-0.488389</td>\n",
       "      <td>-0.860248</td>\n",
       "      <td>-0.139783</td>\n",
       "      <td>0.443417</td>\n",
       "      <td>-1.105784</td>\n",
       "      <td>-0.436602</td>\n",
       "    </tr>\n",
       "  </tbody>\n",
       "</table>\n",
       "</div>"
      ],
      "text/plain": [
       "        PC1       PC2       PC3       PC4       PC5       PC6       PC7  \\\n",
       "0 -1.941369 -0.497787 -1.324365 -0.995420  0.232958 -0.018665  0.455852   \n",
       "1 -2.121025  0.484950  2.336903  0.873032  0.801648 -0.059100  0.335239   \n",
       "2 -2.113127  1.123457  0.415470 -0.168013 -0.452445 -0.036741  0.166677   \n",
       "3  1.847953  0.283141  1.850787 -0.326464  0.206920 -0.042363 -1.166209   \n",
       "4  3.085832 -1.254005  0.039280 -0.099189 -0.488389 -0.860248 -0.139783   \n",
       "\n",
       "        PC8       PC9      PC10  \n",
       "0 -0.258284 -0.134532 -0.838714  \n",
       "1 -0.289468 -0.124930 -1.000955  \n",
       "2  0.156373 -0.210472 -0.715496  \n",
       "3 -0.031245 -1.025657 -0.402292  \n",
       "4  0.443417 -1.105784 -0.436602  "
      ]
     },
     "execution_count": 9,
     "metadata": {},
     "output_type": "execute_result"
    }
   ],
   "source": [
    "import pandas as pd\n",
    "\n",
    "df_pca = pd.DataFrame(df_pca, columns=[f\"PC{i + 1}\" for i in range(df_pca.shape[1])])\n",
    "print(\"Shape:\", df_pca.shape)\n",
    "df_pca.head()"
   ]
  },
  {
   "cell_type": "code",
   "execution_count": 10,
   "metadata": {},
   "outputs": [
    {
     "name": "stdout",
     "output_type": "stream",
     "text": [
      "Explained variance ratio of each component: [0.49666327 0.135365   0.12231333 0.05374542 0.04469067 0.03068572\n",
      " 0.02337503 0.02187515 0.01502525 0.0117332 ]\n",
      "Cumulative explained variance: [0.49666327 0.63202827 0.7543416  0.80808702 0.85277769 0.88346341\n",
      " 0.90683844 0.92871358 0.94373884 0.95547203]\n"
     ]
    }
   ],
   "source": [
    "print(\"Explained variance ratio of each component:\", pca.explained_variance_ratio_)\n",
    "print(\"Cumulative explained variance:\", pca.explained_variance_ratio_.cumsum())"
   ]
  },
  {
   "cell_type": "code",
   "execution_count": null,
   "metadata": {},
   "outputs": [],
   "source": []
  }
 ],
 "metadata": {
  "kernelspec": {
   "display_name": "Python 3",
   "language": "python",
   "name": "python3"
  },
  "language_info": {
   "codemirror_mode": {
    "name": "ipython",
    "version": 3
   },
   "file_extension": ".py",
   "mimetype": "text/x-python",
   "name": "python",
   "nbconvert_exporter": "python",
   "pygments_lexer": "ipython3",
   "version": "3.9.18"
  }
 },
 "nbformat": 4,
 "nbformat_minor": 2
}
